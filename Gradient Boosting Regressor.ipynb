{
 "cells": [
  {
   "cell_type": "markdown",
   "id": "1482a263-340e-4868-a37a-0aa1081b1b33",
   "metadata": {},
   "source": [
    "**Crop yield Prediction made by Synesis**"
   ]
  },
  {
   "cell_type": "code",
   "execution_count": 22,
   "id": "dd9bd2a5-c295-4b3c-91dd-149b468d8734",
   "metadata": {
    "tags": []
   },
   "outputs": [],
   "source": [
    "# Importing libraries\n",
    "import pickle\n",
    "import pandas as pd\n",
    "import numpy as np\n",
    "from sklearn.metrics import mean_absolute_error, mean_squared_error\n",
    "from sklearn.impute import SimpleImputer\n",
    "from sklearn.preprocessing import OrdinalEncoder, OneHotEncoder, StandardScaler\n",
    "from sklearn.compose import ColumnTransformer\n",
    "from sklearn.pipeline import Pipeline\n",
    "from sklearn.model_selection import train_test_split\n",
    "\n",
    "# Loading dataset with help of pandas\n",
    "data = pd.read_csv('crop_production.csv')\n",
    "\n",
    "\n",
    "# Add District_Name and Season columns to X dataframe\n",
    "X = data[['State_Name', 'District_Name', 'Crop_Year', 'Season', 'Crop', 'Area']]\n",
    "Y = data['Production']\n",
    "\n",
    "# Split the data into training and testing sets\n",
    "X_train, X_test, Y_train, Y_test  = train_test_split(X, Y, test_size=0.2, random_state=0)\n",
    "\n",
    "# Define preprocessing pipelines for categorical and numerical features\n",
    "num_transform = Pipeline([('imputer', SimpleImputer(strategy=\"median\")), ('scaler', StandardScaler())])\n",
    "num_cols = ['Crop_Year', 'Area']\n",
    "\n",
    "cat_transform = Pipeline(steps=[('imputer', SimpleImputer(strategy='most_frequent')),('onehot', OneHotEncoder(handle_unknown='ignore'))])\n",
    "cat_cols = ['State_Name', 'District_Name', 'Crop', 'Season']\n",
    "\n",
    "preprocessor = ColumnTransformer(\n",
    "    transformers=[\n",
    "        ('cat', cat_transform, cat_cols),\n",
    "        ('num', num_transform, num_cols)\n",
    "    ])\n",
    "\n",
    "from sklearn.impute import SimpleImputer\n",
    "\n",
    "# Fit an imputer on Y_train\n",
    "imputer = SimpleImputer(strategy='mean')\n",
    "Y_train = Y_train.to_numpy().reshape(-1, 1)\n",
    "imputer.fit(Y_train)\n",
    "\n",
    "# # Transform Y_train using the fitted imputer\n",
    "Y_train = imputer.transform(Y_train).ravel()\n",
    "\n",
    "\n",
    "# Fit the imputer on Y_train and transform Y_train\n",
    "Y_train = imputer.fit_transform(Y_train.reshape(-1, 1)).ravel()\n",
    "\n",
    "\n",
    "# Fit the preprocessing pipeline on training data\n",
    "X_train_prep = preprocessor.fit_transform(X_train)\n",
    "X_test_prep = preprocessor.transform(X_test)"
   ]
  },
  {
   "cell_type": "code",
   "execution_count": 23,
   "id": "7639459f-b044-4561-8b79-d5e6a85619b0",
   "metadata": {
    "tags": []
   },
   "outputs": [
    {
     "data": {
      "text/html": [
       "<style>#sk-container-id-4 {color: black;background-color: white;}#sk-container-id-4 pre{padding: 0;}#sk-container-id-4 div.sk-toggleable {background-color: white;}#sk-container-id-4 label.sk-toggleable__label {cursor: pointer;display: block;width: 100%;margin-bottom: 0;padding: 0.3em;box-sizing: border-box;text-align: center;}#sk-container-id-4 label.sk-toggleable__label-arrow:before {content: \"▸\";float: left;margin-right: 0.25em;color: #696969;}#sk-container-id-4 label.sk-toggleable__label-arrow:hover:before {color: black;}#sk-container-id-4 div.sk-estimator:hover label.sk-toggleable__label-arrow:before {color: black;}#sk-container-id-4 div.sk-toggleable__content {max-height: 0;max-width: 0;overflow: hidden;text-align: left;background-color: #f0f8ff;}#sk-container-id-4 div.sk-toggleable__content pre {margin: 0.2em;color: black;border-radius: 0.25em;background-color: #f0f8ff;}#sk-container-id-4 input.sk-toggleable__control:checked~div.sk-toggleable__content {max-height: 200px;max-width: 100%;overflow: auto;}#sk-container-id-4 input.sk-toggleable__control:checked~label.sk-toggleable__label-arrow:before {content: \"▾\";}#sk-container-id-4 div.sk-estimator input.sk-toggleable__control:checked~label.sk-toggleable__label {background-color: #d4ebff;}#sk-container-id-4 div.sk-label input.sk-toggleable__control:checked~label.sk-toggleable__label {background-color: #d4ebff;}#sk-container-id-4 input.sk-hidden--visually {border: 0;clip: rect(1px 1px 1px 1px);clip: rect(1px, 1px, 1px, 1px);height: 1px;margin: -1px;overflow: hidden;padding: 0;position: absolute;width: 1px;}#sk-container-id-4 div.sk-estimator {font-family: monospace;background-color: #f0f8ff;border: 1px dotted black;border-radius: 0.25em;box-sizing: border-box;margin-bottom: 0.5em;}#sk-container-id-4 div.sk-estimator:hover {background-color: #d4ebff;}#sk-container-id-4 div.sk-parallel-item::after {content: \"\";width: 100%;border-bottom: 1px solid gray;flex-grow: 1;}#sk-container-id-4 div.sk-label:hover label.sk-toggleable__label {background-color: #d4ebff;}#sk-container-id-4 div.sk-serial::before {content: \"\";position: absolute;border-left: 1px solid gray;box-sizing: border-box;top: 0;bottom: 0;left: 50%;z-index: 0;}#sk-container-id-4 div.sk-serial {display: flex;flex-direction: column;align-items: center;background-color: white;padding-right: 0.2em;padding-left: 0.2em;position: relative;}#sk-container-id-4 div.sk-item {position: relative;z-index: 1;}#sk-container-id-4 div.sk-parallel {display: flex;align-items: stretch;justify-content: center;background-color: white;position: relative;}#sk-container-id-4 div.sk-item::before, #sk-container-id-4 div.sk-parallel-item::before {content: \"\";position: absolute;border-left: 1px solid gray;box-sizing: border-box;top: 0;bottom: 0;left: 50%;z-index: -1;}#sk-container-id-4 div.sk-parallel-item {display: flex;flex-direction: column;z-index: 1;position: relative;background-color: white;}#sk-container-id-4 div.sk-parallel-item:first-child::after {align-self: flex-end;width: 50%;}#sk-container-id-4 div.sk-parallel-item:last-child::after {align-self: flex-start;width: 50%;}#sk-container-id-4 div.sk-parallel-item:only-child::after {width: 0;}#sk-container-id-4 div.sk-dashed-wrapped {border: 1px dashed gray;margin: 0 0.4em 0.5em 0.4em;box-sizing: border-box;padding-bottom: 0.4em;background-color: white;}#sk-container-id-4 div.sk-label label {font-family: monospace;font-weight: bold;display: inline-block;line-height: 1.2em;}#sk-container-id-4 div.sk-label-container {text-align: center;}#sk-container-id-4 div.sk-container {/* jupyter's `normalize.less` sets `[hidden] { display: none; }` but bootstrap.min.css set `[hidden] { display: none !important; }` so we also need the `!important` here to be able to override the default hidden behavior on the sphinx rendered scikit-learn.org. See: https://github.com/scikit-learn/scikit-learn/issues/21755 */display: inline-block !important;position: relative;}#sk-container-id-4 div.sk-text-repr-fallback {display: none;}</style><div id=\"sk-container-id-4\" class=\"sk-top-container\"><div class=\"sk-text-repr-fallback\"><pre>GradientBoostingRegressor(max_depth=5)</pre><b>In a Jupyter environment, please rerun this cell to show the HTML representation or trust the notebook. <br />On GitHub, the HTML representation is unable to render, please try loading this page with nbviewer.org.</b></div><div class=\"sk-container\" hidden><div class=\"sk-item\"><div class=\"sk-estimator sk-toggleable\"><input class=\"sk-toggleable__control sk-hidden--visually\" id=\"sk-estimator-id-4\" type=\"checkbox\" checked><label for=\"sk-estimator-id-4\" class=\"sk-toggleable__label sk-toggleable__label-arrow\">GradientBoostingRegressor</label><div class=\"sk-toggleable__content\"><pre>GradientBoostingRegressor(max_depth=5)</pre></div></div></div></div></div>"
      ],
      "text/plain": [
       "GradientBoostingRegressor(max_depth=5)"
      ]
     },
     "execution_count": 23,
     "metadata": {},
     "output_type": "execute_result"
    }
   ],
   "source": [
    "from sklearn import ensemble\n",
    "yield_predict = ensemble.GradientBoostingRegressor(n_estimators = 100, max_depth = 5, min_samples_split = 2)\n",
    "yield_predict.fit(X_train_prep, Y_train)"
   ]
  },
  {
   "cell_type": "code",
   "execution_count": null,
   "id": "7416255f-99c7-471c-818d-fcc51dad00b2",
   "metadata": {},
   "outputs": [],
   "source": [
    "# User input for Gradient Boosting Regressor\n",
    "# Save the model to a file\n",
    "pickle.dump(yield_predict, open('model.pkl', 'wb'))\n",
    "\n",
    "# Load the saved model from a file\n",
    "model = pickle.load(open('model.pkl', 'rb'))\n",
    "\n",
    "# User Input\n",
    "state_name = input(\"Enter State Name: \")\n",
    "district_name = input(\"Enter District Name: \")\n",
    "crop_year = int(input(\"Enter Crop Year: \"))\n",
    "season = input(\"Enter Season: \")\n",
    "crop = input(\"Enter Crop: \")\n",
    "area = float(input(\"Enter Area: \"))\n",
    "\n",
    "# Create a dictionary with the user input\n",
    "user_data = {'State_Name': state_name,\n",
    "             'District_Name': district_name,\n",
    "             'Crop_Year': crop_year,\n",
    "             'Season': season,\n",
    "             'Crop': crop,\n",
    "             'Area': area}\n",
    "\n",
    "# Convert the dictionary to a DataFrame and add it to the original data\n",
    "user_df = pd.DataFrame(user_data, index=[0])\n",
    "X = pd.concat([X, user_df], ignore_index=True)\n",
    "\n",
    "# Create input data as a list of lists\n",
    "input_data = [[state_name, district_name, crop_year, season, crop, area]]\n",
    "\n",
    "# Create input dataframe from input data\n",
    "input_df = pd.DataFrame(input_data, columns=['State_Name', 'District_Name', 'Crop_Year', 'Season', 'Crop', 'Area'])\n",
    "\n",
    "\n",
    "# Preprocess the input data and make a prediction\n",
    "X_user_prep = preprocessor.transform(X.tail(1))\n",
    "Y_pred = model.predict(X_user_prep)\n",
    "\n",
    "# Print the predicted production\n",
    "print(Y_pred[0])   #This code predicts the production for a single preprocessed input data point,"
   ]
  },
  {
   "cell_type": "code",
   "execution_count": 30,
   "id": "7cfa4f3d-8388-42cc-94d2-d41940f290d4",
   "metadata": {},
   "outputs": [
    {
     "data": {
      "text/html": [
       "<div>\n",
       "<style scoped>\n",
       "    .dataframe tbody tr th:only-of-type {\n",
       "        vertical-align: middle;\n",
       "    }\n",
       "\n",
       "    .dataframe tbody tr th {\n",
       "        vertical-align: top;\n",
       "    }\n",
       "\n",
       "    .dataframe thead th {\n",
       "        text-align: right;\n",
       "    }\n",
       "</style>\n",
       "<table border=\"1\" class=\"dataframe\">\n",
       "  <thead>\n",
       "    <tr style=\"text-align: right;\">\n",
       "      <th></th>\n",
       "      <th>actual unseen data</th>\n",
       "      <th>predicted unseen data</th>\n",
       "    </tr>\n",
       "  </thead>\n",
       "  <tbody>\n",
       "    <tr>\n",
       "      <th>0</th>\n",
       "      <td>452.3</td>\n",
       "      <td>7185.863962</td>\n",
       "    </tr>\n",
       "    <tr>\n",
       "      <th>1</th>\n",
       "      <td>57.0</td>\n",
       "      <td>7185.863962</td>\n",
       "    </tr>\n",
       "    <tr>\n",
       "      <th>2</th>\n",
       "      <td>84.0</td>\n",
       "      <td>3268.332884</td>\n",
       "    </tr>\n",
       "    <tr>\n",
       "      <th>3</th>\n",
       "      <td>554.0</td>\n",
       "      <td>7185.863962</td>\n",
       "    </tr>\n",
       "    <tr>\n",
       "      <th>4</th>\n",
       "      <td>262672.0</td>\n",
       "      <td>313940.610049</td>\n",
       "    </tr>\n",
       "    <tr>\n",
       "      <th>...</th>\n",
       "      <td>...</td>\n",
       "      <td>...</td>\n",
       "    </tr>\n",
       "    <tr>\n",
       "      <th>196867</th>\n",
       "      <td>2370.0</td>\n",
       "      <td>8231.220702</td>\n",
       "    </tr>\n",
       "    <tr>\n",
       "      <th>196868</th>\n",
       "      <td>0.0</td>\n",
       "      <td>3268.332884</td>\n",
       "    </tr>\n",
       "    <tr>\n",
       "      <th>196869</th>\n",
       "      <td>73.0</td>\n",
       "      <td>3268.332884</td>\n",
       "    </tr>\n",
       "    <tr>\n",
       "      <th>196870</th>\n",
       "      <td>7.0</td>\n",
       "      <td>7185.863962</td>\n",
       "    </tr>\n",
       "    <tr>\n",
       "      <th>196871</th>\n",
       "      <td>882.0</td>\n",
       "      <td>3268.332884</td>\n",
       "    </tr>\n",
       "  </tbody>\n",
       "</table>\n",
       "<p>196872 rows × 2 columns</p>\n",
       "</div>"
      ],
      "text/plain": [
       "        actual unseen data  predicted unseen data\n",
       "0                    452.3            7185.863962\n",
       "1                     57.0            7185.863962\n",
       "2                     84.0            3268.332884\n",
       "3                    554.0            7185.863962\n",
       "4                 262672.0          313940.610049\n",
       "...                    ...                    ...\n",
       "196867              2370.0            8231.220702\n",
       "196868                 0.0            3268.332884\n",
       "196869                73.0            3268.332884\n",
       "196870                 7.0            7185.863962\n",
       "196871               882.0            3268.332884\n",
       "\n",
       "[196872 rows x 2 columns]"
      ]
     },
     "execution_count": 30,
     "metadata": {},
     "output_type": "execute_result"
    }
   ],
   "source": [
    "yield_predict_test=yield_predict.predict(X_test_prep)\n",
    "yield_predict_train=yield_predict.predict(X_train_prep)\n",
    "pd.DataFrame({'actual unseen data':Y_train,'predicted unseen data':yield_predict_train})"
   ]
  },
  {
   "cell_type": "code",
   "execution_count": 40,
   "id": "5c902546-14d9-47bc-965d-9843d7da1634",
   "metadata": {
    "tags": []
   },
   "outputs": [
    {
     "data": {
      "text/plain": [
       "(196872, 810)"
      ]
     },
     "execution_count": 40,
     "metadata": {},
     "output_type": "execute_result"
    }
   ],
   "source": [
    "X_train_prep.shape"
   ]
  },
  {
   "cell_type": "code",
   "execution_count": 42,
   "id": "d4d1cccf-6812-4e72-a48a-199007ad0888",
   "metadata": {
    "tags": []
   },
   "outputs": [
    {
     "data": {
      "text/plain": [
       "(49219, 810)"
      ]
     },
     "execution_count": 42,
     "metadata": {},
     "output_type": "execute_result"
    }
   ],
   "source": [
    "X_test_prep.shape"
   ]
  },
  {
   "cell_type": "code",
   "execution_count": 29,
   "id": "27011c8e-4a47-48be-8921-1ef16bf4a1ae",
   "metadata": {
    "tags": []
   },
   "outputs": [],
   "source": [
    "# Fill missing values with mean\n",
    "Y_test = Y_test.fillna(Y_test.mean())"
   ]
  },
  {
   "cell_type": "code",
   "execution_count": 31,
   "id": "377385f7-52a7-49e9-b4be-7901d987c307",
   "metadata": {
    "tags": []
   },
   "outputs": [
    {
     "data": {
      "text/plain": [
       "array([0.73389105, 0.84503592, 0.69263004, 0.89001007, 0.97746456])"
      ]
     },
     "execution_count": 31,
     "metadata": {},
     "output_type": "execute_result"
    }
   ],
   "source": [
    "# Score of Gradient Boosting Regressor\n",
    "from sklearn.model_selection import cross_val_score, cross_val_predict\n",
    "scores = cross_val_score(yield_predict, X_test_prep, Y_test, cv=5)\n",
    "scores"
   ]
  },
  {
   "cell_type": "code",
   "execution_count": 32,
   "id": "7dd66c9f-c3dd-46d3-a032-49f063428bb8",
   "metadata": {
    "tags": []
   },
   "outputs": [
    {
     "data": {
      "text/plain": [
       "0.84594552283178"
      ]
     },
     "execution_count": 32,
     "metadata": {},
     "output_type": "execute_result"
    }
   ],
   "source": [
    "#Accuracy of Gradient Boosting Regressor\n",
    "from sklearn import metrics\n",
    "predictions = cross_val_predict(yield_predict, X_test_prep, Y_test, cv=5)\n",
    "accuracy = metrics.r2_score(Y_test, predictions)\n",
    "accuracy"
   ]
  },
  {
   "cell_type": "code",
   "execution_count": 33,
   "id": "1cd2fcff-70ae-4807-8934-6058a5ca587c",
   "metadata": {
    "tags": []
   },
   "outputs": [
    {
     "name": "stdout",
     "output_type": "stream",
     "text": [
      "MAE=  123916.16893739709\n",
      "MSE=  6466506692870.09\n",
      "R2 value=  0.982163870710439\n",
      "Adjusted R2 value=  0.9819244595790355\n",
      "RMSE (train)=  1653589.6350388438\n",
      "RMSE (test)=  2542932.6953087235\n"
     ]
    }
   ],
   "source": [
    "print('MAE= ',metrics.mean_absolute_error(Y_test,yield_predict_test))\n",
    "print('MSE= ',metrics.mean_squared_error(Y_test,yield_predict_test))\n",
    "print('R2 value= ',yield_predict.score(X_test_prep,Y_test))\n",
    "print('Adjusted R2 value= ',1 - (1 - (yield_predict.score(X_test_prep,Y_test))) * ((756 - 1)/(756-10-1)))\n",
    "print('RMSE (train)= ',np.sqrt(mean_squared_error(Y_train, yield_predict_train)))\n",
    "print('RMSE (test)= ',np.sqrt(mean_squared_error(Y_test,yield_predict_test)))"
   ]
  }
 ],
 "metadata": {
  "kernelspec": {
   "display_name": "Python 3 (ipykernel)",
   "language": "python",
   "name": "python3"
  },
  "language_info": {
   "codemirror_mode": {
    "name": "ipython",
    "version": 3
   },
   "file_extension": ".py",
   "mimetype": "text/x-python",
   "name": "python",
   "nbconvert_exporter": "python",
   "pygments_lexer": "ipython3",
   "version": "3.11.2"
  }
 },
 "nbformat": 4,
 "nbformat_minor": 5
}
